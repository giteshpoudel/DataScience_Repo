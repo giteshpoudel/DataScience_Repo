{
 "cells": [
  {
   "cell_type": "markdown",
   "metadata": {},
   "source": [
    "# Used Car Price Prediction"
   ]
  },
  {
   "cell_type": "code",
   "execution_count": 1,
   "metadata": {},
   "outputs": [],
   "source": [
    "import numpy as np\n",
    "import pandas as pd\n",
    "import seaborn as sns\n",
    "import matplotlib.pyplot as plt\n",
    "\n",
    "from math import sqrt\n",
    "\n",
    "from sklearn.metrics import mean_squared_error, r2_score\n",
    "from sklearn.preprocessing import StandardScaler, LabelEncoder\n",
    "\n",
    "from sklearn.linear_model import LinearRegression\n",
    "from sklearn.neighbors import KNeighborsRegressor\n",
    "from sklearn.model_selection import train_test_split, cross_val_predict \n",
    "\n",
    "from sklearn.ensemble import RandomForestRegressor\n",
    "import xgboost as xgb\n"
   ]
  },
  {
   "cell_type": "code",
   "execution_count": 2,
   "metadata": {},
   "outputs": [],
   "source": [
    "source = pd.read_csv('vehicles.csv')"
   ]
  },
  {
   "cell_type": "code",
   "execution_count": 3,
   "metadata": {},
   "outputs": [],
   "source": [
    "#making copy to reset dataset, if wrongly modified\n",
    "data = source.copy()"
   ]
  },
  {
   "cell_type": "code",
   "execution_count": 4,
   "metadata": {},
   "outputs": [
    {
     "data": {
      "text/html": [
       "<div>\n",
       "<style scoped>\n",
       "    .dataframe tbody tr th:only-of-type {\n",
       "        vertical-align: middle;\n",
       "    }\n",
       "\n",
       "    .dataframe tbody tr th {\n",
       "        vertical-align: top;\n",
       "    }\n",
       "\n",
       "    .dataframe thead th {\n",
       "        text-align: right;\n",
       "    }\n",
       "</style>\n",
       "<table border=\"1\" class=\"dataframe\">\n",
       "  <thead>\n",
       "    <tr style=\"text-align: right;\">\n",
       "      <th></th>\n",
       "      <th>id</th>\n",
       "      <th>url</th>\n",
       "      <th>region</th>\n",
       "      <th>region_url</th>\n",
       "      <th>price</th>\n",
       "      <th>year</th>\n",
       "      <th>manufacturer</th>\n",
       "      <th>model</th>\n",
       "      <th>condition</th>\n",
       "      <th>cylinders</th>\n",
       "      <th>...</th>\n",
       "      <th>drive</th>\n",
       "      <th>size</th>\n",
       "      <th>type</th>\n",
       "      <th>paint_color</th>\n",
       "      <th>image_url</th>\n",
       "      <th>description</th>\n",
       "      <th>county</th>\n",
       "      <th>state</th>\n",
       "      <th>lat</th>\n",
       "      <th>long</th>\n",
       "    </tr>\n",
       "  </thead>\n",
       "  <tbody>\n",
       "    <tr>\n",
       "      <th>0</th>\n",
       "      <td>7184791621</td>\n",
       "      <td>https://duluth.craigslist.org/ctd/d/duluth-200...</td>\n",
       "      <td>duluth / superior</td>\n",
       "      <td>https://duluth.craigslist.org</td>\n",
       "      <td>6995</td>\n",
       "      <td>2000.0</td>\n",
       "      <td>gmc</td>\n",
       "      <td>new sierra 1500</td>\n",
       "      <td>excellent</td>\n",
       "      <td>8 cylinders</td>\n",
       "      <td>...</td>\n",
       "      <td>4wd</td>\n",
       "      <td>NaN</td>\n",
       "      <td>NaN</td>\n",
       "      <td>red</td>\n",
       "      <td>https://images.craigslist.org/00n0n_f06ykBMcdh...</td>\n",
       "      <td>2000 *** GMC New Sierra 1500 Ext Cab 157.5  WB...</td>\n",
       "      <td>NaN</td>\n",
       "      <td>mn</td>\n",
       "      <td>46.8433</td>\n",
       "      <td>-92.2550</td>\n",
       "    </tr>\n",
       "    <tr>\n",
       "      <th>1</th>\n",
       "      <td>7184773187</td>\n",
       "      <td>https://duluth.craigslist.org/cto/d/saginaw-20...</td>\n",
       "      <td>duluth / superior</td>\n",
       "      <td>https://duluth.craigslist.org</td>\n",
       "      <td>8750</td>\n",
       "      <td>2013.0</td>\n",
       "      <td>hyundai</td>\n",
       "      <td>sonata</td>\n",
       "      <td>excellent</td>\n",
       "      <td>4 cylinders</td>\n",
       "      <td>...</td>\n",
       "      <td>fwd</td>\n",
       "      <td>NaN</td>\n",
       "      <td>NaN</td>\n",
       "      <td>grey</td>\n",
       "      <td>https://images.craigslist.org/00d0d_kgZ6xoeRw2...</td>\n",
       "      <td>For Sale:  2013 Hyundai Sonata GLS - $8750.  O...</td>\n",
       "      <td>NaN</td>\n",
       "      <td>mn</td>\n",
       "      <td>46.9074</td>\n",
       "      <td>-92.4638</td>\n",
       "    </tr>\n",
       "    <tr>\n",
       "      <th>2</th>\n",
       "      <td>7193375964</td>\n",
       "      <td>https://newhaven.craigslist.org/cto/d/stratfor...</td>\n",
       "      <td>new haven</td>\n",
       "      <td>https://newhaven.craigslist.org</td>\n",
       "      <td>10900</td>\n",
       "      <td>2013.0</td>\n",
       "      <td>toyota</td>\n",
       "      <td>prius</td>\n",
       "      <td>good</td>\n",
       "      <td>4 cylinders</td>\n",
       "      <td>...</td>\n",
       "      <td>fwd</td>\n",
       "      <td>NaN</td>\n",
       "      <td>NaN</td>\n",
       "      <td>blue</td>\n",
       "      <td>https://images.craigslist.org/00d0d_3sHGxPbY2O...</td>\n",
       "      <td>2013 Prius V Model Two. One owner—must sell my...</td>\n",
       "      <td>NaN</td>\n",
       "      <td>ct</td>\n",
       "      <td>41.1770</td>\n",
       "      <td>-73.1336</td>\n",
       "    </tr>\n",
       "    <tr>\n",
       "      <th>3</th>\n",
       "      <td>7195108810</td>\n",
       "      <td>https://albuquerque.craigslist.org/cto/d/albuq...</td>\n",
       "      <td>albuquerque</td>\n",
       "      <td>https://albuquerque.craigslist.org</td>\n",
       "      <td>12500</td>\n",
       "      <td>2003.0</td>\n",
       "      <td>mitsubishi</td>\n",
       "      <td>lancer</td>\n",
       "      <td>good</td>\n",
       "      <td>4 cylinders</td>\n",
       "      <td>...</td>\n",
       "      <td>4wd</td>\n",
       "      <td>mid-size</td>\n",
       "      <td>sedan</td>\n",
       "      <td>grey</td>\n",
       "      <td>https://images.craigslist.org/00m0m_4a8Pb6JbMG...</td>\n",
       "      <td>2003 Mitsubishi Lancer Evolution, silver.  Abo...</td>\n",
       "      <td>NaN</td>\n",
       "      <td>nm</td>\n",
       "      <td>35.1868</td>\n",
       "      <td>-106.6650</td>\n",
       "    </tr>\n",
       "    <tr>\n",
       "      <th>4</th>\n",
       "      <td>7184712241</td>\n",
       "      <td>https://duluth.craigslist.org/ctd/d/rush-city-...</td>\n",
       "      <td>duluth / superior</td>\n",
       "      <td>https://duluth.craigslist.org</td>\n",
       "      <td>16995</td>\n",
       "      <td>2007.0</td>\n",
       "      <td>gmc</td>\n",
       "      <td>sierra classic 2500hd</td>\n",
       "      <td>good</td>\n",
       "      <td>8 cylinders</td>\n",
       "      <td>...</td>\n",
       "      <td>4wd</td>\n",
       "      <td>full-size</td>\n",
       "      <td>truck</td>\n",
       "      <td>white</td>\n",
       "      <td>https://images.craigslist.org/01414_g093aPtSMW...</td>\n",
       "      <td>**Bad Credit, No Credit... No Problem!**2007 G...</td>\n",
       "      <td>NaN</td>\n",
       "      <td>mn</td>\n",
       "      <td>45.6836</td>\n",
       "      <td>-92.9648</td>\n",
       "    </tr>\n",
       "  </tbody>\n",
       "</table>\n",
       "<p>5 rows × 25 columns</p>\n",
       "</div>"
      ],
      "text/plain": [
       "           id                                                url  \\\n",
       "0  7184791621  https://duluth.craigslist.org/ctd/d/duluth-200...   \n",
       "1  7184773187  https://duluth.craigslist.org/cto/d/saginaw-20...   \n",
       "2  7193375964  https://newhaven.craigslist.org/cto/d/stratfor...   \n",
       "3  7195108810  https://albuquerque.craigslist.org/cto/d/albuq...   \n",
       "4  7184712241  https://duluth.craigslist.org/ctd/d/rush-city-...   \n",
       "\n",
       "              region                          region_url  price    year  \\\n",
       "0  duluth / superior       https://duluth.craigslist.org   6995  2000.0   \n",
       "1  duluth / superior       https://duluth.craigslist.org   8750  2013.0   \n",
       "2          new haven     https://newhaven.craigslist.org  10900  2013.0   \n",
       "3        albuquerque  https://albuquerque.craigslist.org  12500  2003.0   \n",
       "4  duluth / superior       https://duluth.craigslist.org  16995  2007.0   \n",
       "\n",
       "  manufacturer                  model  condition    cylinders  ... drive  \\\n",
       "0          gmc        new sierra 1500  excellent  8 cylinders  ...   4wd   \n",
       "1      hyundai                 sonata  excellent  4 cylinders  ...   fwd   \n",
       "2       toyota                  prius       good  4 cylinders  ...   fwd   \n",
       "3   mitsubishi                 lancer       good  4 cylinders  ...   4wd   \n",
       "4          gmc  sierra classic 2500hd       good  8 cylinders  ...   4wd   \n",
       "\n",
       "        size   type paint_color  \\\n",
       "0        NaN    NaN         red   \n",
       "1        NaN    NaN        grey   \n",
       "2        NaN    NaN        blue   \n",
       "3   mid-size  sedan        grey   \n",
       "4  full-size  truck       white   \n",
       "\n",
       "                                           image_url  \\\n",
       "0  https://images.craigslist.org/00n0n_f06ykBMcdh...   \n",
       "1  https://images.craigslist.org/00d0d_kgZ6xoeRw2...   \n",
       "2  https://images.craigslist.org/00d0d_3sHGxPbY2O...   \n",
       "3  https://images.craigslist.org/00m0m_4a8Pb6JbMG...   \n",
       "4  https://images.craigslist.org/01414_g093aPtSMW...   \n",
       "\n",
       "                                         description county state      lat  \\\n",
       "0  2000 *** GMC New Sierra 1500 Ext Cab 157.5  WB...    NaN    mn  46.8433   \n",
       "1  For Sale:  2013 Hyundai Sonata GLS - $8750.  O...    NaN    mn  46.9074   \n",
       "2  2013 Prius V Model Two. One owner—must sell my...    NaN    ct  41.1770   \n",
       "3  2003 Mitsubishi Lancer Evolution, silver.  Abo...    NaN    nm  35.1868   \n",
       "4  **Bad Credit, No Credit... No Problem!**2007 G...    NaN    mn  45.6836   \n",
       "\n",
       "       long  \n",
       "0  -92.2550  \n",
       "1  -92.4638  \n",
       "2  -73.1336  \n",
       "3 -106.6650  \n",
       "4  -92.9648  \n",
       "\n",
       "[5 rows x 25 columns]"
      ]
     },
     "execution_count": 4,
     "metadata": {},
     "output_type": "execute_result"
    }
   ],
   "source": [
    "data.head()"
   ]
  },
  {
   "cell_type": "code",
   "execution_count": 5,
   "metadata": {},
   "outputs": [
    {
     "data": {
      "text/plain": [
       "(423857, 25)"
      ]
     },
     "execution_count": 5,
     "metadata": {},
     "output_type": "execute_result"
    }
   ],
   "source": [
    "data.shape"
   ]
  },
  {
   "cell_type": "code",
   "execution_count": 6,
   "metadata": {},
   "outputs": [
    {
     "data": {
      "text/plain": [
       "id                int64\n",
       "url              object\n",
       "region           object\n",
       "region_url       object\n",
       "price             int64\n",
       "year            float64\n",
       "manufacturer     object\n",
       "model            object\n",
       "condition        object\n",
       "cylinders        object\n",
       "fuel             object\n",
       "odometer        float64\n",
       "title_status     object\n",
       "transmission     object\n",
       "vin              object\n",
       "drive            object\n",
       "size             object\n",
       "type             object\n",
       "paint_color      object\n",
       "image_url        object\n",
       "description      object\n",
       "county          float64\n",
       "state            object\n",
       "lat             float64\n",
       "long            float64\n",
       "dtype: object"
      ]
     },
     "execution_count": 6,
     "metadata": {},
     "output_type": "execute_result"
    }
   ],
   "source": [
    "data.dtypes"
   ]
  },
  {
   "cell_type": "code",
   "execution_count": 7,
   "metadata": {},
   "outputs": [],
   "source": [
    "data = data.drop(['id', \"url\",\"region\",\"size\",\"vin\",\"description\",\"image_url\",\"title_status\"],axis=1)"
   ]
  },
  {
   "cell_type": "code",
   "execution_count": 8,
   "metadata": {},
   "outputs": [],
   "source": [
    "#extracting region information from URL\n",
    "data['region_url']= data['region_url'].str.split('.' , expand = True)[0].str.split(\"//\", expand=True)[1]\n"
   ]
  },
  {
   "cell_type": "code",
   "execution_count": 9,
   "metadata": {},
   "outputs": [],
   "source": [
    "data.rename(columns={\"region_url\":\"region\"}, inplace = True)"
   ]
  },
  {
   "cell_type": "code",
   "execution_count": 10,
   "metadata": {},
   "outputs": [
    {
     "data": {
      "text/plain": [
       "region               0\n",
       "price                0\n",
       "year             95114\n",
       "manufacturer    110615\n",
       "model            98473\n",
       "condition       247138\n",
       "cylinders       226178\n",
       "fuel             96643\n",
       "odometer        153272\n",
       "transmission     95792\n",
       "drive           192738\n",
       "type            182700\n",
       "paint_color     201654\n",
       "county          423857\n",
       "state                0\n",
       "lat              99453\n",
       "long             99453\n",
       "dtype: int64"
      ]
     },
     "execution_count": 10,
     "metadata": {},
     "output_type": "execute_result"
    }
   ],
   "source": [
    "data.isnull().sum()"
   ]
  },
  {
   "cell_type": "code",
   "execution_count": 11,
   "metadata": {},
   "outputs": [
    {
     "data": {
      "image/png": "[encoded data removed]",
      "text/plain": [
       "<Figure size 1008x576 with 1 Axes>"
      ]
     },
     "metadata": {
      "needs_background": "light"
     },
     "output_type": "display_data"
    }
   ],
   "source": [
    "missing = data.isnull().sum().sort_values(ascending=False).div(len(data))\n",
    "plt.figure(figsize=(14,8))\n",
    "sns.barplot(x=missing.index, y=missing.values, palette=\"rocket\")\n",
    "plt.title(\"Percent of missing data\")\n",
    "plt.xlabel(\"Columns\")\n",
    "plt.ylabel(\"Ratio\")\n",
    "plt.show()"
   ]
  },
  {
   "cell_type": "code",
   "execution_count": 12,
   "metadata": {},
   "outputs": [
    {
     "data": {
      "text/html": [
       "<div>\n",
       "<style scoped>\n",
       "    .dataframe tbody tr th:only-of-type {\n",
       "        vertical-align: middle;\n",
       "    }\n",
       "\n",
       "    .dataframe tbody tr th {\n",
       "        vertical-align: top;\n",
       "    }\n",
       "\n",
       "    .dataframe thead th {\n",
       "        text-align: right;\n",
       "    }\n",
       "</style>\n",
       "<table border=\"1\" class=\"dataframe\">\n",
       "  <thead>\n",
       "    <tr style=\"text-align: right;\">\n",
       "      <th></th>\n",
       "      <th>region</th>\n",
       "      <th>manufacturer</th>\n",
       "      <th>model</th>\n",
       "      <th>condition</th>\n",
       "      <th>cylinders</th>\n",
       "      <th>fuel</th>\n",
       "      <th>transmission</th>\n",
       "      <th>drive</th>\n",
       "      <th>type</th>\n",
       "      <th>paint_color</th>\n",
       "      <th>state</th>\n",
       "    </tr>\n",
       "  </thead>\n",
       "  <tbody>\n",
       "    <tr>\n",
       "      <th>count</th>\n",
       "      <td>423857</td>\n",
       "      <td>313242</td>\n",
       "      <td>325384</td>\n",
       "      <td>176719</td>\n",
       "      <td>197679</td>\n",
       "      <td>327214</td>\n",
       "      <td>328065</td>\n",
       "      <td>231119</td>\n",
       "      <td>241157</td>\n",
       "      <td>222203</td>\n",
       "      <td>423857</td>\n",
       "    </tr>\n",
       "    <tr>\n",
       "      <th>unique</th>\n",
       "      <td>413</td>\n",
       "      <td>43</td>\n",
       "      <td>27042</td>\n",
       "      <td>6</td>\n",
       "      <td>8</td>\n",
       "      <td>5</td>\n",
       "      <td>3</td>\n",
       "      <td>3</td>\n",
       "      <td>13</td>\n",
       "      <td>12</td>\n",
       "      <td>51</td>\n",
       "    </tr>\n",
       "    <tr>\n",
       "      <th>top</th>\n",
       "      <td>salem</td>\n",
       "      <td>ford</td>\n",
       "      <td>f-150</td>\n",
       "      <td>excellent</td>\n",
       "      <td>6 cylinders</td>\n",
       "      <td>gas</td>\n",
       "      <td>automatic</td>\n",
       "      <td>4wd</td>\n",
       "      <td>sedan</td>\n",
       "      <td>white</td>\n",
       "      <td>ca</td>\n",
       "    </tr>\n",
       "    <tr>\n",
       "      <th>freq</th>\n",
       "      <td>2985</td>\n",
       "      <td>59786</td>\n",
       "      <td>6073</td>\n",
       "      <td>85254</td>\n",
       "      <td>70130</td>\n",
       "      <td>286775</td>\n",
       "      <td>292619</td>\n",
       "      <td>99347</td>\n",
       "      <td>64842</td>\n",
       "      <td>57646</td>\n",
       "      <td>45798</td>\n",
       "    </tr>\n",
       "  </tbody>\n",
       "</table>\n",
       "</div>"
      ],
      "text/plain": [
       "        region manufacturer   model  condition    cylinders    fuel  \\\n",
       "count   423857       313242  325384     176719       197679  327214   \n",
       "unique     413           43   27042          6            8       5   \n",
       "top      salem         ford   f-150  excellent  6 cylinders     gas   \n",
       "freq      2985        59786    6073      85254        70130  286775   \n",
       "\n",
       "       transmission   drive    type paint_color   state  \n",
       "count        328065  231119  241157      222203  423857  \n",
       "unique            3       3      13          12      51  \n",
       "top       automatic     4wd   sedan       white      ca  \n",
       "freq         292619   99347   64842       57646   45798  "
      ]
     },
     "execution_count": 12,
     "metadata": {},
     "output_type": "execute_result"
    }
   ],
   "source": [
    "data.describe(include=[object])"
   ]
  },
  {
   "cell_type": "code",
   "execution_count": 13,
   "metadata": {},
   "outputs": [],
   "source": [
    "#county column is completely null\n",
    "data.drop('county', axis=1, inplace=True)\n",
    "data.drop('condition', axis=1, inplace=True)   #removing atm \n",
    "data.drop({'lat', 'long'}, axis=1, inplace=True)   #we have region information\n",
    "\n"
   ]
  },
  {
   "cell_type": "code",
   "execution_count": 14,
   "metadata": {},
   "outputs": [],
   "source": [
    "#year data is very important, record is not useful without the information of manufacture year\n",
    "#removing all the data without year or model data\n",
    "data = data.dropna(subset=['year', 'model'], axis= 0)\n"
   ]
  },
  {
   "cell_type": "code",
   "execution_count": 15,
   "metadata": {},
   "outputs": [],
   "source": [
    "model_index = (data['model'].value_counts() < 300)\n",
    "data['model'] = data['model'].apply(lambda x: 'Others' if model_index.loc[x] == True else x)"
   ]
  },
  {
   "cell_type": "code",
   "execution_count": 16,
   "metadata": {},
   "outputs": [],
   "source": [
    "index_names = data[data['model']=='Others'].index \n",
    "data.drop(index_names, inplace = True)"
   ]
  },
  {
   "cell_type": "code",
   "execution_count": 17,
   "metadata": {},
   "outputs": [],
   "source": [
    "#filling missing information with mode of model\n",
    "#if model name match with other records, we will use it as reference to replicate the value\n",
    "f = lambda x: x.mean() if np.issubdtype(x.dtype, np.number) else x.mode().iloc[0]\n",
    "data = data.fillna(data.groupby('model').transform(f))"
   ]
  },
  {
   "cell_type": "code",
   "execution_count": 18,
   "metadata": {},
   "outputs": [
    {
     "data": {
      "text/plain": [
       "(142524, 13)"
      ]
     },
     "execution_count": 18,
     "metadata": {},
     "output_type": "execute_result"
    }
   ],
   "source": [
    "data = data[data.year > 2000]\n",
    "data.shape"
   ]
  },
  {
   "cell_type": "code",
   "execution_count": 19,
   "metadata": {},
   "outputs": [
    {
     "data": {
      "text/plain": [
       "412862.000000081"
      ]
     },
     "execution_count": 19,
     "metadata": {},
     "output_type": "execute_result"
    }
   ],
   "source": [
    "data.odometer.quantile(.999)"
   ]
  },
  {
   "cell_type": "code",
   "execution_count": 20,
   "metadata": {},
   "outputs": [
    {
     "data": {
      "text/plain": [
       "(142414, 13)"
      ]
     },
     "execution_count": 20,
     "metadata": {},
     "output_type": "execute_result"
    }
   ],
   "source": [
    "data = data[data.odometer < 750000]\n",
    "data.shape"
   ]
  },
  {
   "cell_type": "code",
   "execution_count": 21,
   "metadata": {},
   "outputs": [
    {
     "data": {
      "text/plain": [
       "<matplotlib.axes._subplots.AxesSubplot at 0x167b198ed00>"
      ]
     },
     "execution_count": 21,
     "metadata": {},
     "output_type": "execute_result"
    },
    {
     "data": {
      "image/png": "[encoded data removed]",
      "text/plain": [
       "<Figure size 216x432 with 1 Axes>"
      ]
     },
     "metadata": {
      "needs_background": "light"
     },
     "output_type": "display_data"
    }
   ],
   "source": [
    "plt.figure(figsize=(3,6))\n",
    "sns.boxplot(y='odometer', data=data)"
   ]
  },
  {
   "cell_type": "code",
   "execution_count": 22,
   "metadata": {},
   "outputs": [
    {
     "data": {
      "text/plain": [
       "73989.2180000004"
      ]
     },
     "execution_count": 22,
     "metadata": {},
     "output_type": "execute_result"
    }
   ],
   "source": [
    "data.price.quantile(.999)"
   ]
  },
  {
   "cell_type": "code",
   "execution_count": 23,
   "metadata": {},
   "outputs": [
    {
     "data": {
      "text/plain": [
       "(126167, 13)"
      ]
     },
     "execution_count": 23,
     "metadata": {},
     "output_type": "execute_result"
    }
   ],
   "source": [
    "data = data[(data.price < 120000) & (data.price > 200)]\n",
    "data.shape"
   ]
  },
  {
   "cell_type": "code",
   "execution_count": 24,
   "metadata": {},
   "outputs": [
    {
     "data": {
      "text/plain": [
       "<matplotlib.axes._subplots.AxesSubplot at 0x167bbd9d640>"
      ]
     },
     "execution_count": 24,
     "metadata": {},
     "output_type": "execute_result"
    },
    {
     "data": {
      "image/png": "[encoded data removed]",
      "text/plain": [
       "<Figure size 216x432 with 1 Axes>"
      ]
     },
     "metadata": {
      "needs_background": "light"
     },
     "output_type": "display_data"
    }
   ],
   "source": [
    "plt.figure(figsize=(3,6))\n",
    "sns.boxplot(y='price', data=data)"
   ]
  },
  {
   "cell_type": "code",
   "execution_count": 25,
   "metadata": {},
   "outputs": [
    {
     "data": {
      "image/png": "[encoded data removed]",
      "text/plain": [
       "<Figure size 432x432 with 2 Axes>"
      ]
     },
     "metadata": {
      "needs_background": "light"
     },
     "output_type": "display_data"
    }
   ],
   "source": [
    "corr_matrix = data.corr()\n",
    "f, ax = plt.subplots(figsize=(6, 6)) \n",
    "heatmap = sns.heatmap(corr_matrix, \n",
    "                      square = True,\n",
    "                      linewidths = .5,\n",
    "                      cmap = 'coolwarm',\n",
    "                      cbar_kws = {'shrink': .4, \n",
    "                                'ticks' : [-1, -.5, 0, 0.5, 1]},\n",
    "                      vmin = -1, \n",
    "                      vmax = 1,\n",
    "                      annot = True,\n",
    "                      annot_kws = {'size': 12})\n",
    "#add the column names as labels\n",
    "ax.set_yticklabels(corr_matrix.columns, rotation = 0)\n",
    "ax.set_xticklabels(corr_matrix.columns)\n",
    "sns.set_style({'xtick.bottom': True}, {'ytick.left': True})"
   ]
  },
  {
   "cell_type": "code",
   "execution_count": 26,
   "metadata": {},
   "outputs": [
    {
     "name": "stdout",
     "output_type": "stream",
     "text": [
      "RMSE of Model is    : 8839.81\n",
      "R-square of Model is : 0.3663\n"
     ]
    }
   ],
   "source": [
    "#model 1\n",
    "X = data[['odometer','year']]\n",
    "y = data['price']\n",
    "model1= LinearRegression(fit_intercept=True)\n",
    "model1.fit(X, y)\n",
    "\n",
    "y_pred = cross_val_predict(model1, X, y, cv=5)\n",
    "RMSE = sqrt(mean_squared_error(y , y_pred))\n",
    "R2 = r2_score(y , y_pred)\n",
    "print(\"RMSE of Model is    : {:.2f}\"\n",
    "          .format(RMSE))\n",
    "print(\"R-square of Model is : {:.4f}\"\n",
    "      . format(R2))"
   ]
  },
  {
   "cell_type": "code",
   "execution_count": 27,
   "metadata": {},
   "outputs": [
    {
     "name": "stdout",
     "output_type": "stream",
     "text": [
      "The model intercept is: -2360944.26\n",
      "The model coefficients are: -0.028452\n"
     ]
    }
   ],
   "source": [
    "print(\"The model intercept is: {:.2f}\".format(model1.intercept_))\n",
    "print(\"The model coefficients are: {:.6f}\".format(model1.coef_[0]))"
   ]
  },
  {
   "cell_type": "markdown",
   "metadata": {},
   "source": [
    "## EDA"
   ]
  },
  {
   "cell_type": "code",
   "execution_count": 28,
   "metadata": {},
   "outputs": [
    {
     "data": {
      "text/html": [
       "<div>\n",
       "<style scoped>\n",
       "    .dataframe tbody tr th:only-of-type {\n",
       "        vertical-align: middle;\n",
       "    }\n",
       "\n",
       "    .dataframe tbody tr th {\n",
       "        vertical-align: top;\n",
       "    }\n",
       "\n",
       "    .dataframe thead th {\n",
       "        text-align: right;\n",
       "    }\n",
       "</style>\n",
       "<table border=\"1\" class=\"dataframe\">\n",
       "  <thead>\n",
       "    <tr style=\"text-align: right;\">\n",
       "      <th></th>\n",
       "      <th>price</th>\n",
       "      <th>year</th>\n",
       "      <th>odometer</th>\n",
       "    </tr>\n",
       "  </thead>\n",
       "  <tbody>\n",
       "    <tr>\n",
       "      <th>count</th>\n",
       "      <td>126167.000000</td>\n",
       "      <td>126167.000000</td>\n",
       "      <td>126167.000000</td>\n",
       "    </tr>\n",
       "    <tr>\n",
       "      <th>mean</th>\n",
       "      <td>14589.403798</td>\n",
       "      <td>2012.095913</td>\n",
       "      <td>96788.264126</td>\n",
       "    </tr>\n",
       "    <tr>\n",
       "      <th>std</th>\n",
       "      <td>11104.759290</td>\n",
       "      <td>4.759828</td>\n",
       "      <td>59504.296202</td>\n",
       "    </tr>\n",
       "    <tr>\n",
       "      <th>min</th>\n",
       "      <td>201.000000</td>\n",
       "      <td>2001.000000</td>\n",
       "      <td>0.000000</td>\n",
       "    </tr>\n",
       "    <tr>\n",
       "      <th>25%</th>\n",
       "      <td>6500.000000</td>\n",
       "      <td>2008.000000</td>\n",
       "      <td>47773.000000</td>\n",
       "    </tr>\n",
       "    <tr>\n",
       "      <th>50%</th>\n",
       "      <td>11950.000000</td>\n",
       "      <td>2013.000000</td>\n",
       "      <td>94130.000000</td>\n",
       "    </tr>\n",
       "    <tr>\n",
       "      <th>75%</th>\n",
       "      <td>18999.000000</td>\n",
       "      <td>2016.000000</td>\n",
       "      <td>136784.000000</td>\n",
       "    </tr>\n",
       "    <tr>\n",
       "      <th>max</th>\n",
       "      <td>118997.000000</td>\n",
       "      <td>2021.000000</td>\n",
       "      <td>703445.000000</td>\n",
       "    </tr>\n",
       "  </tbody>\n",
       "</table>\n",
       "</div>"
      ],
      "text/plain": [
       "               price           year       odometer\n",
       "count  126167.000000  126167.000000  126167.000000\n",
       "mean    14589.403798    2012.095913   96788.264126\n",
       "std     11104.759290       4.759828   59504.296202\n",
       "min       201.000000    2001.000000       0.000000\n",
       "25%      6500.000000    2008.000000   47773.000000\n",
       "50%     11950.000000    2013.000000   94130.000000\n",
       "75%     18999.000000    2016.000000  136784.000000\n",
       "max    118997.000000    2021.000000  703445.000000"
      ]
     },
     "execution_count": 28,
     "metadata": {},
     "output_type": "execute_result"
    }
   ],
   "source": [
    "data.describe()"
   ]
  },
  {
   "cell_type": "code",
   "execution_count": 29,
   "metadata": {},
   "outputs": [
    {
     "data": {
      "text/html": [
       "<div>\n",
       "<style scoped>\n",
       "    .dataframe tbody tr th:only-of-type {\n",
       "        vertical-align: middle;\n",
       "    }\n",
       "\n",
       "    .dataframe tbody tr th {\n",
       "        vertical-align: top;\n",
       "    }\n",
       "\n",
       "    .dataframe thead th {\n",
       "        text-align: right;\n",
       "    }\n",
       "</style>\n",
       "<table border=\"1\" class=\"dataframe\">\n",
       "  <thead>\n",
       "    <tr style=\"text-align: right;\">\n",
       "      <th></th>\n",
       "      <th>region</th>\n",
       "      <th>manufacturer</th>\n",
       "      <th>model</th>\n",
       "      <th>cylinders</th>\n",
       "      <th>fuel</th>\n",
       "      <th>transmission</th>\n",
       "      <th>drive</th>\n",
       "      <th>type</th>\n",
       "      <th>paint_color</th>\n",
       "      <th>state</th>\n",
       "    </tr>\n",
       "  </thead>\n",
       "  <tbody>\n",
       "    <tr>\n",
       "      <th>count</th>\n",
       "      <td>126167</td>\n",
       "      <td>126167</td>\n",
       "      <td>126167</td>\n",
       "      <td>126167</td>\n",
       "      <td>126167</td>\n",
       "      <td>126167</td>\n",
       "      <td>126167</td>\n",
       "      <td>126167</td>\n",
       "      <td>126167</td>\n",
       "      <td>126167</td>\n",
       "    </tr>\n",
       "    <tr>\n",
       "      <th>unique</th>\n",
       "      <td>409</td>\n",
       "      <td>25</td>\n",
       "      <td>159</td>\n",
       "      <td>7</td>\n",
       "      <td>5</td>\n",
       "      <td>3</td>\n",
       "      <td>3</td>\n",
       "      <td>13</td>\n",
       "      <td>12</td>\n",
       "      <td>51</td>\n",
       "    </tr>\n",
       "    <tr>\n",
       "      <th>top</th>\n",
       "      <td>southjersey</td>\n",
       "      <td>ford</td>\n",
       "      <td>f-150</td>\n",
       "      <td>4 cylinders</td>\n",
       "      <td>gas</td>\n",
       "      <td>automatic</td>\n",
       "      <td>fwd</td>\n",
       "      <td>sedan</td>\n",
       "      <td>white</td>\n",
       "      <td>ca</td>\n",
       "    </tr>\n",
       "    <tr>\n",
       "      <th>freq</th>\n",
       "      <td>1365</td>\n",
       "      <td>25400</td>\n",
       "      <td>4955</td>\n",
       "      <td>52575</td>\n",
       "      <td>114670</td>\n",
       "      <td>118834</td>\n",
       "      <td>56714</td>\n",
       "      <td>38859</td>\n",
       "      <td>33649</td>\n",
       "      <td>10542</td>\n",
       "    </tr>\n",
       "  </tbody>\n",
       "</table>\n",
       "</div>"
      ],
      "text/plain": [
       "             region manufacturer   model    cylinders    fuel transmission  \\\n",
       "count        126167       126167  126167       126167  126167       126167   \n",
       "unique          409           25     159            7       5            3   \n",
       "top     southjersey         ford   f-150  4 cylinders     gas    automatic   \n",
       "freq           1365        25400    4955        52575  114670       118834   \n",
       "\n",
       "         drive    type paint_color   state  \n",
       "count   126167  126167      126167  126167  \n",
       "unique       3      13          12      51  \n",
       "top        fwd   sedan       white      ca  \n",
       "freq     56714   38859       33649   10542  "
      ]
     },
     "execution_count": 29,
     "metadata": {},
     "output_type": "execute_result"
    }
   ],
   "source": [
    "data.describe(include=[object])"
   ]
  },
  {
   "cell_type": "code",
   "execution_count": 30,
   "metadata": {},
   "outputs": [
    {
     "data": {
      "text/plain": [
       "<matplotlib.axes._subplots.AxesSubplot at 0x167b3cd2400>"
      ]
     },
     "execution_count": 30,
     "metadata": {},
     "output_type": "execute_result"
    },
    {
     "data": {
      "image/png": "[encoded data removed]",
      "text/plain": [
       "<Figure size 432x288 with 1 Axes>"
      ]
     },
     "metadata": {
      "needs_background": "light"
     },
     "output_type": "display_data"
    }
   ],
   "source": [
    "sns.countplot(data = data, x= 'drive')"
   ]
  },
  {
   "cell_type": "code",
   "execution_count": 31,
   "metadata": {},
   "outputs": [
    {
     "data": {
      "image/png": "[encoded data removed]",
      "text/plain": [
       "<Figure size 432x288 with 1 Axes>"
      ]
     },
     "metadata": {
      "needs_background": "light"
     },
     "output_type": "display_data"
    }
   ],
   "source": [
    "age_sur = sns.kdeplot(data[\"year\"][(data[\"transmission\"] == 'automatic') & (data[\"year\"].notnull())], color=\"Green\", shade = True)\n",
    "age_sur = sns.kdeplot(data[\"year\"][(data[\"transmission\"] == 'manual') & (data[\"year\"].notnull())], ax = age_sur, color=\"Red\", shade= True)\n",
    "age_sur.set_xlabel(\"Year\")\n",
    "age_sur.set_ylabel(\"Density\")\n",
    "age_sur.set_title(\"Transmission by Year\")\n",
    "age_sur = age_sur.legend([\"Automatic\",\"Manual\"])"
   ]
  },
  {
   "cell_type": "code",
   "execution_count": 32,
   "metadata": {},
   "outputs": [
    {
     "data": {
      "image/png": "[encoded data removed]",
      "text/plain": [
       "<Figure size 576x432 with 1 Axes>"
      ]
     },
     "metadata": {
      "needs_background": "light"
     },
     "output_type": "display_data"
    }
   ],
   "source": [
    "#top 10 manufacturer\n",
    "manufac = data['manufacturer'].value_counts()\n",
    "top10comp = manufac[:10]\n",
    "fig, ax = plt.subplots(figsize=(8, 6))\n",
    "sns.barplot(x=top10comp.index, y=top10comp.values, ax=ax)\n",
    "plt.title(\"Top 10 Manufacturer in Craiglist\")\n",
    "plt.ylabel(\"Counts of ads\")\n",
    "plt.xlabel(\"Manufacturer\")\n",
    "plt.xticks(rotation= 45)\n",
    "plt.show()"
   ]
  },
  {
   "cell_type": "code",
   "execution_count": 33,
   "metadata": {},
   "outputs": [
    {
     "data": {
      "image/png": "[encoded data removed]",
      "text/plain": [
       "<Figure size 576x432 with 1 Axes>"
      ]
     },
     "metadata": {
      "needs_background": "light"
     },
     "output_type": "display_data"
    }
   ],
   "source": [
    "#top 10 models\n",
    "model_count = data['model'].value_counts()\n",
    "modeltop = model_count[:10] # exluding others \n",
    "fig, ax = plt.subplots(figsize=(8, 6))\n",
    "sns.barplot(x=modeltop.index, y=modeltop.values, ax=ax)\n",
    "plt.title(\"Top 10 Models sold in Craiglist\")\n",
    "plt.ylabel(\"Counts of ads\")\n",
    "plt.xlabel(\"Car Model\")\n",
    "plt.xticks(rotation= 45)\n",
    "plt.show()"
   ]
  },
  {
   "cell_type": "code",
   "execution_count": 34,
   "metadata": {},
   "outputs": [
    {
     "data": {
      "image/png": "[encoded data removed]",
      "text/plain": [
       "<Figure size 576x432 with 1 Axes>"
      ]
     },
     "metadata": {
      "needs_background": "light"
     },
     "output_type": "display_data"
    }
   ],
   "source": [
    "#Top 10 manufacturer by average price\n",
    "manugroupprice = data.groupby(['manufacturer'])[['price']].mean().reset_index()\n",
    "manutop = manugroupprice[:10]\n",
    "fig, ax = plt.subplots(figsize=(8, 6))\n",
    "sns.barplot(x=manutop.manufacturer, y=manutop.price, ax=ax)\n",
    "plt.title(\"Top 10 Manufacturer by average price\")\n",
    "plt.ylabel(\"Average Price of car\")\n",
    "plt.xlabel(\"Manufacturer\")\n",
    "plt.xticks(rotation= 45)\n",
    "plt.show()"
   ]
  },
  {
   "cell_type": "code",
   "execution_count": 35,
   "metadata": {},
   "outputs": [
    {
     "data": {
      "image/png": "[encoded data removed]",
      "text/plain": [
       "<Figure size 576x432 with 1 Axes>"
      ]
     },
     "metadata": {
      "needs_background": "light"
     },
     "output_type": "display_data"
    }
   ],
   "source": [
    "#Top 10 model by average price\n",
    "manugroupprice = data.groupby(['model'])[['price']].mean().reset_index()\n",
    "manutop = manugroupprice[:10]\n",
    "fig, ax = plt.subplots(figsize=(8, 6))\n",
    "sns.barplot(x=manutop.model, y=manutop.price, ax=ax)\n",
    "plt.title(\"Top 10 Model by average price\")\n",
    "plt.ylabel(\"Average Price of car\")\n",
    "plt.xlabel(\"Manufacturer\")\n",
    "plt.xticks(rotation= 45)\n",
    "plt.show()"
   ]
  },
  {
   "cell_type": "markdown",
   "metadata": {},
   "source": [
    "## Encoding"
   ]
  },
  {
   "cell_type": "code",
   "execution_count": 36,
   "metadata": {},
   "outputs": [],
   "source": [
    "#making copy before changing categorical to numerical\n",
    "edata = data.copy()"
   ]
  },
  {
   "cell_type": "code",
   "execution_count": 37,
   "metadata": {},
   "outputs": [],
   "source": [
    "encode=LabelEncoder()\n",
    "catcol = ['region','manufacturer','model', 'cylinders', 'fuel', 'transmission', 'drive', 'type','paint_color', 'state']"
   ]
  },
  {
   "cell_type": "code",
   "execution_count": 38,
   "metadata": {},
   "outputs": [],
   "source": [
    "edata[catcol] = edata[catcol].apply(encode.fit_transform)"
   ]
  },
  {
   "cell_type": "code",
   "execution_count": 39,
   "metadata": {},
   "outputs": [
    {
     "data": {
      "text/html": [
       "<div>\n",
       "<style scoped>\n",
       "    .dataframe tbody tr th:only-of-type {\n",
       "        vertical-align: middle;\n",
       "    }\n",
       "\n",
       "    .dataframe tbody tr th {\n",
       "        vertical-align: top;\n",
       "    }\n",
       "\n",
       "    .dataframe thead th {\n",
       "        text-align: right;\n",
       "    }\n",
       "</style>\n",
       "<table border=\"1\" class=\"dataframe\">\n",
       "  <thead>\n",
       "    <tr style=\"text-align: right;\">\n",
       "      <th></th>\n",
       "      <th>region</th>\n",
       "      <th>price</th>\n",
       "      <th>year</th>\n",
       "      <th>manufacturer</th>\n",
       "      <th>model</th>\n",
       "      <th>cylinders</th>\n",
       "      <th>fuel</th>\n",
       "      <th>odometer</th>\n",
       "      <th>transmission</th>\n",
       "      <th>drive</th>\n",
       "      <th>type</th>\n",
       "      <th>paint_color</th>\n",
       "      <th>state</th>\n",
       "    </tr>\n",
       "  </thead>\n",
       "  <tbody>\n",
       "    <tr>\n",
       "      <th>423842</th>\n",
       "      <td>93</td>\n",
       "      <td>8700</td>\n",
       "      <td>2011</td>\n",
       "      <td>13</td>\n",
       "      <td>129</td>\n",
       "      <td>4</td>\n",
       "      <td>2</td>\n",
       "      <td>101873</td>\n",
       "      <td>0</td>\n",
       "      <td>0</td>\n",
       "      <td>0</td>\n",
       "      <td>10</td>\n",
       "      <td>23</td>\n",
       "    </tr>\n",
       "    <tr>\n",
       "      <th>423846</th>\n",
       "      <td>93</td>\n",
       "      <td>27990</td>\n",
       "      <td>2019</td>\n",
       "      <td>12</td>\n",
       "      <td>26</td>\n",
       "      <td>4</td>\n",
       "      <td>2</td>\n",
       "      <td>32700</td>\n",
       "      <td>0</td>\n",
       "      <td>0</td>\n",
       "      <td>0</td>\n",
       "      <td>10</td>\n",
       "      <td>23</td>\n",
       "    </tr>\n",
       "    <tr>\n",
       "      <th>423848</th>\n",
       "      <td>93</td>\n",
       "      <td>19995</td>\n",
       "      <td>2010</td>\n",
       "      <td>9</td>\n",
       "      <td>121</td>\n",
       "      <td>5</td>\n",
       "      <td>4</td>\n",
       "      <td>73467</td>\n",
       "      <td>0</td>\n",
       "      <td>0</td>\n",
       "      <td>8</td>\n",
       "      <td>10</td>\n",
       "      <td>23</td>\n",
       "    </tr>\n",
       "    <tr>\n",
       "      <th>423852</th>\n",
       "      <td>93</td>\n",
       "      <td>1600</td>\n",
       "      <td>2006</td>\n",
       "      <td>11</td>\n",
       "      <td>128</td>\n",
       "      <td>4</td>\n",
       "      <td>2</td>\n",
       "      <td>159980</td>\n",
       "      <td>0</td>\n",
       "      <td>1</td>\n",
       "      <td>9</td>\n",
       "      <td>1</td>\n",
       "      <td>23</td>\n",
       "    </tr>\n",
       "    <tr>\n",
       "      <th>423856</th>\n",
       "      <td>4</td>\n",
       "      <td>8650</td>\n",
       "      <td>2015</td>\n",
       "      <td>18</td>\n",
       "      <td>150</td>\n",
       "      <td>2</td>\n",
       "      <td>2</td>\n",
       "      <td>160526</td>\n",
       "      <td>0</td>\n",
       "      <td>1</td>\n",
       "      <td>9</td>\n",
       "      <td>9</td>\n",
       "      <td>32</td>\n",
       "    </tr>\n",
       "  </tbody>\n",
       "</table>\n",
       "</div>"
      ],
      "text/plain": [
       "        region  price  year  manufacturer  model  cylinders  fuel  odometer  \\\n",
       "423842      93   8700  2011            13    129          4     2    101873   \n",
       "423846      93  27990  2019            12     26          4     2     32700   \n",
       "423848      93  19995  2010             9    121          5     4     73467   \n",
       "423852      93   1600  2006            11    128          4     2    159980   \n",
       "423856       4   8650  2015            18    150          2     2    160526   \n",
       "\n",
       "        transmission  drive  type  paint_color  state  \n",
       "423842             0      0     0           10     23  \n",
       "423846             0      0     0           10     23  \n",
       "423848             0      0     8           10     23  \n",
       "423852             0      1     9            1     23  \n",
       "423856             0      1     9            9     32  "
      ]
     },
     "execution_count": 39,
     "metadata": {},
     "output_type": "execute_result"
    }
   ],
   "source": [
    "edata.tail()"
   ]
  },
  {
   "cell_type": "code",
   "execution_count": 40,
   "metadata": {},
   "outputs": [
    {
     "data": {
      "text/plain": [
       "(126167, 13)"
      ]
     },
     "execution_count": 40,
     "metadata": {},
     "output_type": "execute_result"
    }
   ],
   "source": [
    "edata.shape"
   ]
  },
  {
   "cell_type": "code",
   "execution_count": 41,
   "metadata": {},
   "outputs": [],
   "source": [
    "scale = StandardScaler()\n",
    "edata['odometer'] = scale.fit_transform(np.array(edata['odometer']).reshape(-1,1))\n",
    "edata['year'] = scale.fit_transform(np.array(edata['year']).reshape(-1,1))\n",
    "edata['model'] = scale.fit_transform(np.array(edata['model']).reshape(-1,1))\n",
    "edata['region'] = scale.fit_transform(np.array(edata['region']).reshape(-1,1))\n",
    "\n",
    "\n",
    "#scaling price of car to log value as range is quite wide\n",
    "#edata['price'] = np.log(edata['price'])\n"
   ]
  },
  {
   "cell_type": "markdown",
   "metadata": {},
   "source": [
    "## Modeling"
   ]
  },
  {
   "cell_type": "code",
   "execution_count": 42,
   "metadata": {},
   "outputs": [],
   "source": [
    "X = edata.drop(columns='price')\n",
    "y = edata.price"
   ]
  },
  {
   "cell_type": "code",
   "execution_count": 43,
   "metadata": {},
   "outputs": [],
   "source": [
    "X_train, X_test, y_train, y_test = train_test_split(X, y, test_size=0.3, random_state= 21)"
   ]
  },
  {
   "cell_type": "code",
   "execution_count": 44,
   "metadata": {},
   "outputs": [],
   "source": [
    "model2= LinearRegression(fit_intercept=True)\n",
    "model2.fit(X_train, y_train)\n",
    "ypred2= model2.predict(X_test)"
   ]
  },
  {
   "cell_type": "code",
   "execution_count": 45,
   "metadata": {},
   "outputs": [
    {
     "name": "stdout",
     "output_type": "stream",
     "text": [
      "RMSE of Model is    : 6868.41\n",
      "R-square of Model is : 0.6201\n"
     ]
    }
   ],
   "source": [
    "RMSE = sqrt(mean_squared_error(y_test , ypred2))\n",
    "R2 = r2_score(y_test , ypred2)\n",
    "print(\"RMSE of Model is    : {:.2f}\"\n",
    "          .format(RMSE))\n",
    "print(\"R-square of Model is : {:.4f}\"\n",
    "      . format(R2))"
   ]
  },
  {
   "cell_type": "code",
   "execution_count": 46,
   "metadata": {},
   "outputs": [
    {
     "name": "stdout",
     "output_type": "stream",
     "text": [
      "The model intercept is: 6068.74\n",
      "The model coefficients are: 17.305564\n"
     ]
    }
   ],
   "source": [
    "print(\"The model intercept is: {:.2f}\".format(model2.intercept_))\n",
    "print(\"The model coefficients are: {:.6f}\".format(model2.coef_[0]))"
   ]
  },
  {
   "cell_type": "code",
   "execution_count": 47,
   "metadata": {},
   "outputs": [
    {
     "name": "stdout",
     "output_type": "stream",
     "text": [
      "RMSE of Model is    : 6074.880 when value of k is 1\n",
      "R square of Model is    : 0.703 when value of k is 1\n",
      "\n",
      "RMSE of Model is    : 5686.536 when value of k is 2\n",
      "R square of Model is    : 0.740 when value of k is 2\n",
      "\n",
      "RMSE of Model is    : 5628.702 when value of k is 5\n",
      "R square of Model is    : 0.745 when value of k is 5\n",
      "\n",
      "RMSE of Model is    : 5882.137 when value of k is 10\n",
      "R square of Model is    : 0.721 when value of k is 10\n",
      "\n"
     ]
    }
   ],
   "source": [
    "K = [1, 2, 5, 10]\n",
    "for k in K:\n",
    "    model = KNeighborsRegressor(n_neighbors = k)\n",
    "    model.fit(X_train, y_train)  #fit the model\n",
    "    pred=model.predict(X_test) #make prediction on test set\n",
    "    RMSE = sqrt(mean_squared_error(y_test , pred))\n",
    "    R2 = r2_score(y_test , pred)\n",
    "    print(\"RMSE of Model is    : {:.3f}\"\n",
    "          .format(RMSE), \"when value of k is\", k)\n",
    "    print(\"R square of Model is    : {:.3f}\"\n",
    "          .format(R2), \"when value of k is\", k)\n",
    "    print()"
   ]
  },
  {
   "cell_type": "code",
   "execution_count": 48,
   "metadata": {},
   "outputs": [],
   "source": [
    "xg_reg = xgb.XGBRegressor(objective ='reg:squarederror', learning_rate = 0.4,\n",
    "                max_depth = 25, alpha = 8, n_estimators = 200)\n",
    "xg_reg.fit(X_train,y_train)\n",
    "y_pred = xg_reg.predict(X_test)"
   ]
  },
  {
   "cell_type": "code",
   "execution_count": 49,
   "metadata": {},
   "outputs": [
    {
     "name": "stdout",
     "output_type": "stream",
     "text": [
      "RMSE of Model is    : 3870.10\n",
      "R-square of Model is : 0.8794\n"
     ]
    }
   ],
   "source": [
    "RMSE = sqrt(mean_squared_error(y_test , y_pred))\n",
    "R2 = r2_score(y_test , y_pred)\n",
    "print(\"RMSE of Model is    : {:.2f}\"\n",
    "          .format(RMSE))\n",
    "print(\"R-square of Model is : {:.4f}\"\n",
    "      . format(R2))"
   ]
  },
  {
   "cell_type": "code",
   "execution_count": 50,
   "metadata": {},
   "outputs": [
    {
     "data": {
      "image/png": "[encoded data removed]",
      "text/plain": [
       "<Figure size 432x288 with 1 Axes>"
      ]
     },
     "metadata": {
      "needs_background": "light"
     },
     "output_type": "display_data"
    }
   ],
   "source": [
    "xgb.plot_importance(xg_reg)\n",
    "plt.rcParams['figure.figsize'] = [8, 8]\n",
    "plt.title(\"Feature Imporantance Based on XGBoost Model\")\n",
    "plt.show()"
   ]
  }
 ],
 "metadata": {
  "kernelspec": {
   "display_name": "Python 3",
   "language": "python",
   "name": "python3"
  },
  "language_info": {
   "codemirror_mode": {
    "name": "ipython",
    "version": 3
   },
   "file_extension": ".py",
   "mimetype": "text/x-python",
   "name": "python",
   "nbconvert_exporter": "python",
   "pygments_lexer": "ipython3",
   "version": "3.8.3"
  }
 },
 "nbformat": 4,
 "nbformat_minor": 4
}
